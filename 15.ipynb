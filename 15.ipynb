{
  "nbformat": 4,
  "nbformat_minor": 0,
  "metadata": {
    "colab": {
      "provenance": []
    },
    "kernelspec": {
      "name": "python3",
      "display_name": "Python 3"
    },
    "language_info": {
      "name": "python"
    }
  },
  "cells": [
    {
      "cell_type": "code",
      "execution_count": 1,
      "metadata": {
        "colab": {
          "base_uri": "https://localhost:8080/"
        },
        "id": "1VOnwfbpF_sV",
        "outputId": "3948c63d-c308-49c0-a681-94648f13611a"
      },
      "outputs": [
        {
          "output_type": "stream",
          "name": "stdout",
          "text": [
            "Test 1 passed.\n",
            "Test 2 passed.\n"
          ]
        }
      ],
      "source": [
        "#Answer of 1\n",
        "def sort_stack(stack):\n",
        "    temp = []\n",
        "    while stack:\n",
        "        val = stack.pop()\n",
        "        while temp and temp[-1] < val:  # changed operator from > to <\n",
        "            stack.append(temp.pop())\n",
        "        temp.append(val)\n",
        "    while temp:\n",
        "        stack.append(temp.pop())\n",
        "\n",
        "\n",
        "def test_sort_stack1():\n",
        "    stack = ['s', 'o', 'r', 't']\n",
        "    sort_stack(stack)\n",
        "    assert stack == ['o', 'r', 's', 't']\n",
        "    print(\"Test 1 passed.\")\n",
        "\n",
        "def test_sort_stack2():\n",
        "    stack = ['d', 'f', 'e', 'g']\n",
        "    sort_stack(stack)\n",
        "    assert stack == ['d', 'e', 'f', 'g']\n",
        "    print(\"Test 2 passed.\")\n",
        "\n",
        "# Run the test functions\n",
        "test_sort_stack1()\n",
        "test_sort_stack2()"
      ]
    },
    {
      "cell_type": "code",
      "source": [
        "#Answer of 2\n",
        "stack = []\n",
        "result = {}\n",
        "series = [5, 3, 2, 10, 6, 8, 1, 4, 12, 7, 4]\n",
        "\n",
        "for i in range(len(series)):\n",
        "    while stack and series[i] > series[stack[-1]]:\n",
        "        popped = stack.pop()\n",
        "        result[series[popped]] = series[i]\n",
        "    stack.append(i)\n",
        "\n",
        "while stack:\n",
        "    popped = stack.pop()\n",
        "    result[series[popped]] = None\n",
        "\n",
        "print(result)\n",
        "\n"
      ],
      "metadata": {
        "colab": {
          "base_uri": "https://localhost:8080/"
        },
        "id": "YvmExcRnGQgt",
        "outputId": "63465ab5-0e18-42cd-9c97-8c66a1e0d230"
      },
      "execution_count": 2,
      "outputs": [
        {
          "output_type": "stream",
          "name": "stdout",
          "text": [
            "{2: 10, 3: 10, 5: 10, 6: 8, 1: 4, 4: None, 8: 12, 10: 12, 7: None, 12: None}\n"
          ]
        }
      ]
    },
    {
      "cell_type": "code",
      "source": [
        "#Answer of 3\n",
        "def find_consecutive_pairs(stack):\n",
        "    result = []\n",
        "    while len(stack) > 1:\n",
        "        x = stack.pop()\n",
        "        y = stack[-1]\n",
        "        if abs(x - y) == 1:\n",
        "            result.append((y, x))\n",
        "    return result\n",
        "\n",
        "# Example usage 1\n",
        "stack = [2,10,30,36,48]\n",
        "pairs = find_consecutive_pairs(stack)\n",
        "if pairs:\n",
        "    print(\"Consecutive pairs found:\")\n",
        "    for pair in pairs:\n",
        "        print(pair)\n",
        "else:\n",
        "    print(\"No consecutive pairs found.\")\n",
        "    \n",
        "    # Example usage 2\n",
        "stack = [2,3,4,5]\n",
        "pairs = find_consecutive_pairs(stack)\n",
        "if pairs:\n",
        "    print(\"Consecutive pairs found:\")\n",
        "    for pair in pairs:\n",
        "        print(pair)\n",
        "else:\n",
        "    print(\"No consecutive pairs found.\")\n",
        "    "
      ],
      "metadata": {
        "colab": {
          "base_uri": "https://localhost:8080/"
        },
        "id": "0N_exJJ0GXpl",
        "outputId": "4c72c81a-a846-47b9-cd88-58cd5ebb458e"
      },
      "execution_count": 3,
      "outputs": [
        {
          "output_type": "stream",
          "name": "stdout",
          "text": [
            "No consecutive pairs found.\n",
            "Consecutive pairs found:\n",
            "(4, 5)\n",
            "(3, 4)\n",
            "(2, 3)\n"
          ]
        }
      ]
    },
    {
      "cell_type": "code",
      "source": [
        "#Answer of 4\n",
        "def rewrite_expression(exp):\n",
        "    st = []\n",
        "    res = \"\"\n",
        "    is_neg = False\n",
        "    for ch in exp:\n",
        "        if ch == \"(\":\n",
        "            st.append(res)\n",
        "            res = \"\"\n",
        "        elif ch == \")\":\n",
        "            op = st.pop()\n",
        "            if is_neg:\n",
        "                op = \"-\" + op.replace(\"-\", \"#\").replace(\"+\", \"-\").replace(\"#\", \"+\")\n",
        "                is_neg = False\n",
        "            res = op + res\n",
        "        elif ch == \"+\":\n",
        "            if is_neg:\n",
        "                res += \"-\"\n",
        "                is_neg = False\n",
        "            res += \"+\"\n",
        "        elif ch == \"-\":\n",
        "            if is_neg:\n",
        "                res += \"-\"\n",
        "                is_neg = False\n",
        "            else:\n",
        "                res += \"-\"\n",
        "        else:\n",
        "            res += ch\n",
        "    return res\n",
        "#Test 1\n",
        "expression = \"x - (y + z)\"\n",
        "result = rewrite_expression(expression)\n",
        "print(result)\n",
        "\n",
        "#Test 2\n",
        "expression = \"x – (y – z –( u + v) ) – w\"\n",
        "result = rewrite_expression(expression)\n",
        "print(result)\n"
      ],
      "metadata": {
        "colab": {
          "base_uri": "https://localhost:8080/"
        },
        "id": "uoaHJItFGgD_",
        "outputId": "8d0c6f09-9b3a-4748-92f7-21463d8506c2"
      },
      "execution_count": 6,
      "outputs": [
        {
          "output_type": "stream",
          "name": "stdout",
          "text": [
            "x - y + z\n",
            "x – y – z – u + v  – w\n"
          ]
        }
      ]
    }
  ]
}